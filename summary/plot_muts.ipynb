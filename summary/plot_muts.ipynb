{
 "cells": [
  {
   "cell_type": "markdown",
   "id": "b2f4b3d2-c3c1-4d39-aab0-9d334e835bf1",
   "metadata": {},
   "source": [
    "# Figure 1 summary plots"
   ]
  },
  {
   "cell_type": "code",
   "execution_count": 4,
   "id": "c9cc2ea3-8f81-422b-8fd7-69fb1c802965",
   "metadata": {},
   "outputs": [],
   "source": [
    "import pandas as pd\n",
    "import seaborn as sns\n",
    "import matplotlib.pyplot as plt"
   ]
  },
  {
   "cell_type": "code",
   "execution_count": 13,
   "id": "7bcddf70-c2cc-459a-9265-5bb65795983a",
   "metadata": {},
   "outputs": [
    {
     "data": {
      "image/png": "[encoded data removed]",
      "text/plain": [
       "<Figure size 288x288 with 3 Axes>"
      ]
     },
     "metadata": {},
     "output_type": "display_data"
    }
   ],
   "source": [
    "fig, axs = plt.subplots(ncols=3, sharey=True)\n",
    "\n",
    "sns.set(style=\"white\", \n",
    "palette=\"pastel\", \n",
    "rc={'figure.figsize':(5,4)\n",
    "\t})\n",
    "\n",
    "##### Ins/Dels/Subs plot\n",
    "df = pd.read_csv(\"basic_mutation.txt\", sep=\"\\t\", index_col=0)\n",
    "df.loc['sum'] = df.sum(axis=0)\n",
    "prop_df = pd.DataFrame()\n",
    "prop_df['dels_prop'] = df.loc['dels'] / df.loc['sum']\n",
    "prop_df['ins_prop'] = df.loc['ins'] / df.loc['sum']\n",
    "prop_df['subs_prop'] = df.loc['subs'] / df.loc['sum']\n",
    "\n",
    "\n",
    "g = prop_df.plot(kind='bar', \n",
    "\t\t\t\t stacked=True, \n",
    "\t\t\t\t color = {\"ins_prop\":\"purple\", \"dels_prop\":\"orange\", \"subs_prop\":\"magenta\"},\n",
    "\t\t\t\twidth = 1, ax = axs[0])\n",
    "\n",
    "g.legend_.remove()\n",
    "g.set_xticklabels(g.get_xticklabels(), rotation=0)\n",
    "g.tick_params(labelsize=8, bottom=True, left=True)\n",
    "\n",
    "### Substitutions plot\n",
    "df = pd.read_csv(\"basic_subs_mutations.txt\", sep=\"\\t\", index_col=0)\n",
    "df.loc['sum'] = df.sum(axis=0)\n",
    "prop_df = pd.DataFrame()\n",
    "for sigtype in df.index[:-1]:\n",
    "\tprop_df[sigtype] = df.loc[sigtype] / df.loc['sum']\n",
    "\n",
    "label2color = {'C>A': '#c0024b', 'C>G': '#680efd', 'C>T': '#59b730', 'T>A': '#ee77ee', 'T>C': '#214e23', 'T>G': '#3ed7c9'}\n",
    "g = prop_df.plot(kind='bar',\n",
    "\t\t\t\t stacked=True, \n",
    "\t\t\t\t color=label2color,\n",
    "\t\t\t\twidth = 1, ax = axs[1])\n",
    "\n",
    "g.set_xticklabels(g.get_xticklabels(), rotation=0)\n",
    "g.tick_params(labelsize=8, bottom=True, left=True)\n",
    "g.legend_.remove()\n",
    "\n",
    "### Coding/NonCoding plot\n",
    "countdf =pd.read_csv(\"CDS_v_noncoding/CDS_v_noncoding_linecounts.txt\", sep=\" \", header=None)\n",
    "count2df = dict(zip(countdf.iloc[:,1], countdf.iloc[:,0]))\n",
    "df = pd.DataFrame(index=['cds', 'ncds'])\n",
    "for k in range(11, 14):\n",
    "\tcoding_out = f\"mutations_{k}bp_nulls_rmsk_CDS.bed\"\n",
    "\tcoding_numlines = int(count2df[coding_out])\n",
    "\tnoncoding_out = f\"mutations_{k}bp_nulls_rmsk_nonCoding.bed\"\n",
    "\tnoncoding_numlines = int(count2df[noncoding_out])\n",
    "\tdf[k]=[coding_numlines, noncoding_numlines]\n",
    "prop_df = pd.DataFrame()\n",
    "prop_df['cds_prop'] = df.loc['cds'] / (df.loc['cds'] + df.loc['ncds'])\n",
    "prop_df['ncds_prop'] = df.loc['ncds'] / (df.loc['cds'] + df.loc['ncds'])\n",
    "\n",
    "region2color = {'cds_prop': '#ae24d1', 'ncds_prop':'#24b1d1'}\n",
    "\n",
    "g = prop_df.plot(kind='bar', stacked=True, color=region2color, width=1, ax=axs[2])\n",
    "g.set_ylabel(\"\")\n",
    "g.legend_.remove()\n",
    "g.set_xticklabels(g.get_xticklabels(), rotation=0)\n",
    "g.tick_params(labelsize=8, bottom=True, left=True)\n",
    "fig.supxlabel(\"K-mer length\", fontsize=10, y=0.05)\n",
    "plt.show()\n",
    "plt.close()"
   ]
  }
 ],
 "metadata": {
  "kernelspec": {
   "display_name": "Python 3 (ipykernel)",
   "language": "python",
   "name": "python3"
  },
  "language_info": {
   "codemirror_mode": {
    "name": "ipython",
    "version": 3
   },
   "file_extension": ".py",
   "mimetype": "text/x-python",
   "name": "python",
   "nbconvert_exporter": "python",
   "pygments_lexer": "ipython3",
   "version": "3.7.12"
  }
 },
 "nbformat": 4,
 "nbformat_minor": 5
}
